{
 "cells": [
  {
   "cell_type": "markdown",
   "metadata": {
    "application/vnd.databricks.v1+cell": {
     "cellMetadata": {
      "byteLimit": 2048000,
      "rowLimit": 10000
     },
     "inputWidgets": {},
     "nuid": "ae5288ba-7237-4bd1-98d5-cf760d58c871",
     "showTitle": false,
     "tableResultSettingsMap": {},
     "title": ""
    }
   },
   "source": [
    "## Conectando a fonte de dados AWS S3"
   ]
  },
  {
   "cell_type": "code",
   "execution_count": 0,
   "metadata": {
    "application/vnd.databricks.v1+cell": {
     "cellMetadata": {
      "byteLimit": 2048000,
      "rowLimit": 10000
     },
     "inputWidgets": {},
     "nuid": "dc42121c-ea85-4c7e-8eee-207815719e59",
     "showTitle": false,
     "tableResultSettingsMap": {},
     "title": ""
    }
   },
   "outputs": [],
   "source": [
    "# Connecting to S3 Bucket\n",
    "import pandas as pd\n",
    "import os\n",
    "\n",
    "cred = pd.read_csv('./../src/databricks_user_accessKeys.csv') # Arquivo gerado automaticamente pelo AWS IAM\n",
    "\n",
    "access_key = cred['access_key_ID'].iloc[0]\n",
    "secret_key = cred['secret_access_key'].iloc[0]\n",
    "bucket = \"ny-taxi-case\"\n",
    "\n",
    "os.environ[\"AWS_ACCESS_KEY_ID\"] = access_key\n",
    "os.environ[\"AWS_SECRET_ACCESS_KEY\"] = secret_key"
   ]
  },
  {
   "cell_type": "markdown",
   "metadata": {
    "application/vnd.databricks.v1+cell": {
     "cellMetadata": {
      "byteLimit": 2048000,
      "rowLimit": 10000
     },
     "inputWidgets": {},
     "nuid": "246b91d6-7672-4a29-8e69-b21879217b34",
     "showTitle": false,
     "tableResultSettingsMap": {},
     "title": ""
    }
   },
   "source": [
    "## Perguntas"
   ]
  },
  {
   "cell_type": "markdown",
   "metadata": {
    "application/vnd.databricks.v1+cell": {
     "cellMetadata": {
      "byteLimit": 2048000,
      "rowLimit": 10000
     },
     "inputWidgets": {},
     "nuid": "97212838-cb1b-40a5-baea-d81f4aefd973",
     "showTitle": false,
     "tableResultSettingsMap": {},
     "title": ""
    }
   },
   "source": [
    "1. Qual a média de valor total (total_amount) recebido em um mês\n",
    "considerando todos os yellow táxis da frota?"
   ]
  },
  {
   "cell_type": "code",
   "execution_count": 0,
   "metadata": {
    "application/vnd.databricks.v1+cell": {
     "cellMetadata": {
      "byteLimit": 2048000,
      "rowLimit": 10000
     },
     "inputWidgets": {},
     "nuid": "1a9fb3d3-7012-49d4-bd99-88a6e2287697",
     "showTitle": false,
     "tableResultSettingsMap": {
      "0": {
       "dataGridStateBlob": "{\"version\":1,\"tableState\":{\"columnPinning\":{\"left\":[\"#row_number#\"],\"right\":[]},\"columnSizing\":{},\"columnVisibility\":{}},\"settings\":{\"columns\":{}},\"syncTimestamp\":1758857944096}",
       "filterBlob": null,
       "queryPlanFiltersBlob": null,
       "tableResultIndex": 0
      }
     },
     "title": ""
    }
   },
   "outputs": [
    {
     "output_type": "display_data",
     "data": {
      "text/html": [
       "<style scoped>\n",
       "  .table-result-container {\n",
       "    max-height: 300px;\n",
       "    overflow: auto;\n",
       "  }\n",
       "  table, th, td {\n",
       "    border: 1px solid black;\n",
       "    border-collapse: collapse;\n",
       "  }\n",
       "  th, td {\n",
       "    padding: 5px;\n",
       "  }\n",
       "  th {\n",
       "    text-align: left;\n",
       "  }\n",
       "</style><div class='table-result-container'><table class='table-result'><thead style='background-color: white'><tr><th>month</th><th>year</th><th>avg_total_amount</th></tr></thead><tbody><tr><td>1</td><td>2023</td><td>27.463529553924776</td></tr><tr><td>2</td><td>2023</td><td>27.37013170397401</td></tr><tr><td>3</td><td>2023</td><td>28.2890940801001</td></tr><tr><td>4</td><td>2023</td><td>28.78439609716948</td></tr><tr><td>5</td><td>2023</td><td>29.453385141507365</td></tr></tbody></table></div>"
      ]
     },
     "metadata": {
      "application/vnd.databricks.v1+output": {
       "addedWidgets": {},
       "aggData": [],
       "aggError": "",
       "aggOverflow": false,
       "aggSchema": [],
       "aggSeriesLimitReached": false,
       "aggType": "",
       "arguments": {},
       "columnCustomDisplayInfos": {},
       "data": [
        [
         1,
         2023,
         27.463529553924776
        ],
        [
         2,
         2023,
         27.37013170397401
        ],
        [
         3,
         2023,
         28.2890940801001
        ],
        [
         4,
         2023,
         28.78439609716948
        ],
        [
         5,
         2023,
         29.453385141507365
        ]
       ],
       "datasetInfos": [],
       "dbfsResultPath": null,
       "isJsonSchema": true,
       "metadata": {},
       "overflow": false,
       "plotOptions": {
        "customPlotOptions": {},
        "displayType": "table",
        "pivotAggregation": null,
        "pivotColumns": null,
        "xColumns": null,
        "yColumns": null
       },
       "removedWidgets": [],
       "schema": [
        {
         "metadata": "{}",
         "name": "month",
         "type": "\"integer\""
        },
        {
         "metadata": "{}",
         "name": "year",
         "type": "\"integer\""
        },
        {
         "metadata": "{}",
         "name": "avg_total_amount",
         "type": "\"double\""
        }
       ],
       "type": "table"
      }
     },
     "output_type": "display_data"
    }
   ],
   "source": [
    "from pyspark.sql import functions as F\n",
    "\n",
    "df = spark.read.format(\"parquet\") \\\n",
    "      .option(\"header\", \"true\") \\\n",
    "      .option(\"inferSchema\", \"true\") \\\n",
    "      .load(f\"s3://{bucket}/metrics_data/yellow/*\") # Restricao para somente taxi yellow\n",
    "\n",
    "df = (df.withColumn(\"month\", F.month(F.col(\"date\")))\n",
    "            .withColumn(\"year\", F.year(F.col(\"date\")))\n",
    "            .groupBy('month', 'year').agg(\n",
    "                  F.sum(F.col(\"sum_total_amount\")).alias('sum_total_amount'),\n",
    "                  F.sum(F.col(\"total_rides\")).alias('total_rides'))\n",
    "                  .withColumn(\"avg_total_amount\", F.col(\"sum_total_amount\") / F.col(\"total_rides\"))\n",
    "            .orderBy(\"year\", \"month\")\n",
    "      )\n",
    "\n",
    "df = df.select(\"month\", \"year\", \"avg_total_amount\")\n",
    "display(df)"
   ]
  },
  {
   "cell_type": "markdown",
   "metadata": {
    "application/vnd.databricks.v1+cell": {
     "cellMetadata": {
      "byteLimit": 2048000,
      "rowLimit": 10000
     },
     "inputWidgets": {},
     "nuid": "67d45504-8dbf-4f91-ae60-959fad368bcc",
     "showTitle": false,
     "tableResultSettingsMap": {},
     "title": ""
    }
   },
   "source": [
    "2. Qual a média de passageiros (passenger\\_count) por cada hora do dia\n",
    "que pegaram táxi no mês de maio considerando todos os táxis da\n",
    "frota?"
   ]
  },
  {
   "cell_type": "code",
   "execution_count": 0,
   "metadata": {
    "application/vnd.databricks.v1+cell": {
     "cellMetadata": {
      "byteLimit": 2048000,
      "rowLimit": 10000
     },
     "inputWidgets": {},
     "nuid": "a2891cc7-96b3-46b3-a5e3-15ff4e8be0f5",
     "showTitle": false,
     "tableResultSettingsMap": {},
     "title": ""
    }
   },
   "outputs": [
    {
     "output_type": "display_data",
     "data": {
      "text/html": [
       "<style scoped>\n",
       "  .table-result-container {\n",
       "    max-height: 300px;\n",
       "    overflow: auto;\n",
       "  }\n",
       "  table, th, td {\n",
       "    border: 1px solid black;\n",
       "    border-collapse: collapse;\n",
       "  }\n",
       "  th, td {\n",
       "    padding: 5px;\n",
       "  }\n",
       "  th {\n",
       "    text-align: left;\n",
       "  }\n",
       "</style><div class='table-result-container'><table class='table-result'><thead style='background-color: white'><tr><th>hour</th><th>avg_passenger_count_month</th></tr></thead><tbody><tr><td>0</td><td>2062.0967741935483</td></tr><tr><td>1</td><td>1349.5806451612902</td></tr><tr><td>2</td><td>881.0</td></tr><tr><td>3</td><td>573.9677419354839</td></tr><tr><td>4</td><td>363.80645161290323</td></tr><tr><td>5</td><td>384.48387096774195</td></tr><tr><td>6</td><td>945.6290322580645</td></tr><tr><td>7</td><td>1945.258064516129</td></tr><tr><td>8</td><td>2677.8709677419356</td></tr><tr><td>9</td><td>3045.6935483870966</td></tr><tr><td>10</td><td>3401.2741935483873</td></tr><tr><td>11</td><td>3747.3548387096776</td></tr><tr><td>12</td><td>4075.8064516129034</td></tr><tr><td>13</td><td>4188.0161290322585</td></tr><tr><td>14</td><td>4579.145161290323</td></tr><tr><td>15</td><td>4721.0</td></tr><tr><td>16</td><td>4721.806451612903</td></tr><tr><td>17</td><td>5118.9838709677415</td></tr><tr><td>18</td><td>5413.0161290322585</td></tr><tr><td>19</td><td>4881.241935483871</td></tr><tr><td>20</td><td>4358.6612903225805</td></tr><tr><td>21</td><td>4503.354838709677</td></tr><tr><td>22</td><td>4179.822580645161</td></tr><tr><td>23</td><td>3246.516129032258</td></tr></tbody></table></div>"
      ]
     },
     "metadata": {
      "application/vnd.databricks.v1+output": {
       "addedWidgets": {},
       "aggData": [],
       "aggError": "",
       "aggOverflow": false,
       "aggSchema": [],
       "aggSeriesLimitReached": false,
       "aggType": "",
       "arguments": {},
       "columnCustomDisplayInfos": {},
       "data": [
        [
         0,
         2062.0967741935483
        ],
        [
         1,
         1349.5806451612902
        ],
        [
         2,
         881.0
        ],
        [
         3,
         573.9677419354839
        ],
        [
         4,
         363.80645161290323
        ],
        [
         5,
         384.48387096774195
        ],
        [
         6,
         945.6290322580645
        ],
        [
         7,
         1945.258064516129
        ],
        [
         8,
         2677.8709677419356
        ],
        [
         9,
         3045.6935483870966
        ],
        [
         10,
         3401.2741935483873
        ],
        [
         11,
         3747.3548387096776
        ],
        [
         12,
         4075.8064516129034
        ],
        [
         13,
         4188.0161290322585
        ],
        [
         14,
         4579.145161290323
        ],
        [
         15,
         4721.0
        ],
        [
         16,
         4721.806451612903
        ],
        [
         17,
         5118.9838709677415
        ],
        [
         18,
         5413.0161290322585
        ],
        [
         19,
         4881.241935483871
        ],
        [
         20,
         4358.6612903225805
        ],
        [
         21,
         4503.354838709677
        ],
        [
         22,
         4179.822580645161
        ],
        [
         23,
         3246.516129032258
        ]
       ],
       "datasetInfos": [],
       "dbfsResultPath": null,
       "isJsonSchema": true,
       "metadata": {},
       "overflow": false,
       "plotOptions": {
        "customPlotOptions": {},
        "displayType": "table",
        "pivotAggregation": null,
        "pivotColumns": null,
        "xColumns": null,
        "yColumns": null
       },
       "removedWidgets": [],
       "schema": [
        {
         "metadata": "{}",
         "name": "hour",
         "type": "\"integer\""
        },
        {
         "metadata": "{}",
         "name": "avg_passenger_count_month",
         "type": "\"double\""
        }
       ],
       "type": "table"
      }
     },
     "output_type": "display_data"
    }
   ],
   "source": [
    "from pyspark.sql import functions as F\n",
    "\n",
    "df = spark.read.format(\"parquet\") \\\n",
    "      .option(\"header\", \"true\") \\\n",
    "      .option(\"inferSchema\", \"true\") \\\n",
    "      .load(f\"s3://{bucket}/metrics_data/*/*\") # Sem restricao de tipo de taxi\n",
    "\n",
    "df = (df.filter(F.month(df.date) == 5) # Restricao de mes: Maio\n",
    "        .select(\"hour\", \"sum_passenger_count\")\n",
    "        .groupBy(\"hour\").agg(F.mean(\"sum_passenger_count\").alias(\"avg_passenger_count_month\"))\n",
    "        .orderBy(\"hour\")\n",
    "        )\n",
    "\n",
    "display(df)"
   ]
  }
 ],
 "metadata": {
  "application/vnd.databricks.v1+notebook": {
   "computePreferences": null,
   "dashboards": [],
   "environmentMetadata": {
    "base_environment": "",
    "environment_version": "3"
   },
   "inputWidgetPreferences": null,
   "language": "python",
   "notebookMetadata": {
    "pythonIndentUnit": 4
   },
   "notebookName": "analysis.ipynb",
   "widgets": {}
  },
  "language_info": {
   "name": "python"
  }
 },
 "nbformat": 4,
 "nbformat_minor": 0
}